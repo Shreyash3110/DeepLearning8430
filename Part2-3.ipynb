{
 "cells": [
  {
   "cell_type": "code",
   "execution_count": 1,
   "id": "1d133a72",
   "metadata": {},
   "outputs": [
    {
     "name": "stderr",
     "output_type": "stream",
     "text": [
      "2023-02-11 19:13:56.436400: I tensorflow/core/platform/cpu_feature_guard.cc:193] This TensorFlow binary is optimized with oneAPI Deep Neural Network Library (oneDNN) to use the following CPU instructions in performance-critical operations:  SSE4.1 SSE4.2\n",
      "To enable them in other operations, rebuild TensorFlow with the appropriate compiler flags.\n"
     ]
    }
   ],
   "source": [
    "import tensorflow as tf\n",
    "import numpy as np\n",
    "import torch\n",
    "import torchvision as tv\n",
    "from torchvision import transforms, datasets\n",
    "import torch.nn as nn\n",
    "import torch.nn.functional as F\n",
    "import torch.optim as optim\n",
    "import matplotlib.pyplot as plt\n",
    "%matplotlib inline"
   ]
  },
  {
   "cell_type": "code",
   "execution_count": 2,
   "id": "1ff30450",
   "metadata": {},
   "outputs": [],
   "source": [
    "sim_Input = 20 * torch.rand((1000, 1)) - 10\n",
    "groundTruth = np.cos(sim_Input)"
   ]
  },
  {
   "cell_type": "code",
   "execution_count": 3,
   "id": "c9eca80d",
   "metadata": {},
   "outputs": [],
   "source": [
    "def calcParams(inputModel):\n",
    "    val = sum(params.numel() for params in inputModel.parameters() if params.requires_grad)\n",
    "    return val"
   ]
  },
  {
   "cell_type": "code",
   "execution_count": 4,
   "id": "1f0f1633",
   "metadata": {},
   "outputs": [],
   "source": [
    "class Optimize_NN_(nn.Module):\n",
    "    def __init__(self):\n",
    "        super().__init__()\n",
    "        self.fc1 = nn.Linear(1, 3)\n",
    "        self.fc2 = nn.Linear(3, 5)\n",
    "        self.fc3 = nn.Linear(5, 1)\n",
    "\n",
    "    def forward(self, val):\n",
    "        val = F.relu(self.fc1(val))\n",
    "        val = F.relu(self.fc2(val))\n",
    "        val = self.fc3(val)\n",
    "        return val"
   ]
  },
  {
   "cell_type": "code",
   "execution_count": 5,
   "id": "a7e0846b",
   "metadata": {},
   "outputs": [],
   "source": [
    "opt_Net = Optimize_NN_()\n",
    "costFunc = nn.MSELoss()\n",
    "opt = optim.Adam(opt_Net.parameters(), lr=0.01)"
   ]
  },
  {
   "cell_type": "code",
   "execution_count": 6,
   "id": "56b8801e",
   "metadata": {},
   "outputs": [],
   "source": [
    "def min_ratio(w):\n",
    "    cnt = 0\n",
    "    total = 0\n",
    "    for x in w:\n",
    "        if(x>0):\n",
    "            cnt += 1\n",
    "        total +=1\n",
    "    return cnt/ total"
   ]
  },
  {
   "cell_type": "code",
   "execution_count": 7,
   "id": "5f6a2ff7",
   "metadata": {},
   "outputs": [],
   "source": [
    "def calculate_grad_norm_(model):\n",
    "    grads = []\n",
    "    for p in model.modules():\n",
    "        if isinstance(p, nn.Linear):\n",
    "            param_norm = p.weight.grad.norm(2).item()\n",
    "            grads.append(param_norm)\n",
    "\n",
    "    grad_mean = np.mean(grads) \n",
    "    return grad_mean"
   ]
  },
  {
   "cell_type": "code",
   "execution_count": 8,
   "id": "75e66cc0",
   "metadata": {},
   "outputs": [],
   "source": [
    "minRatio = []\n",
    "Loss = []\n",
    "train_cnt = 100\n",
    "for i in range(train_cnt):\n",
    "    EPOCHS = 30\n",
    "    lss = 0\n",
    "    opt_Net = Optimize_NN_()\n",
    "    costFunc = nn.MSELoss()\n",
    "    opt = optim.Adam(opt_Net.parameters(), lr=0.01)\n",
    "    for epochIndex in range(EPOCHS):\n",
    "        opt_Net.zero_grad()\n",
    "        out1 = opt_Net(sim_Input)\n",
    "        cost = costFunc(out1, groundTruth)\n",
    "        with torch.no_grad():\n",
    "            lss += (costFunc(out1, groundTruth))\n",
    "        cost.backward()\n",
    "        opt.step()\n",
    "    \n",
    "    Loss.append(lss/len(sim_Input))\n",
    "    num_param = calcParams(opt_Net)\n",
    "    \n",
    "    H = torch.zeros((num_param, num_param))\n",
    "\n",
    "    y_hat = opt_Net(sim_Input)\n",
    "    y = sim_Input\n",
    "    loss  = ((y_hat - y)**2).mean()\n",
    "    \n",
    "    J = torch.autograd.grad(loss, list(opt_Net.parameters()), create_graph=True)\n",
    "    J = torch.cat([e.flatten() for e in J]) \n",
    "\n",
    "    \n",
    "    num_param = calcParams(opt_Net)\n",
    "    for i in range(num_param):\n",
    "        result = torch.autograd.grad(J[i], list(opt_Net.parameters()), retain_graph=True)\n",
    "        H[i] = torch.cat([r.flatten() for r in result]) \n",
    "    w, v = np.linalg.eig(H)\n",
    "    minRatio.append(min_ratio(w))\n",
    "    "
   ]
  },
  {
   "cell_type": "code",
   "execution_count": 9,
   "id": "715a437c",
   "metadata": {},
   "outputs": [
    {
     "data": {
      "text/plain": [
       "0.05094190717985233"
      ]
     },
     "execution_count": 9,
     "metadata": {},
     "output_type": "execute_result"
    }
   ],
   "source": [
    "calculate_grad_norm_(opt_Net)"
   ]
  },
  {
   "cell_type": "code",
   "execution_count": 10,
   "id": "148e82a4",
   "metadata": {},
   "outputs": [],
   "source": [
    "num_param = calcParams(opt_Net)"
   ]
  },
  {
   "cell_type": "code",
   "execution_count": 11,
   "id": "71c49b76",
   "metadata": {},
   "outputs": [],
   "source": [
    "H = torch.zeros((num_param, num_param))\n",
    "\n",
    "y_hat = opt_Net(sim_Input)\n",
    "y = sim_Input\n",
    "loss  = ((y_hat - y)**2).mean()\n",
    "\n",
    "J = torch.autograd.grad(loss, list(opt_Net.parameters()), create_graph=True)\n",
    "J = torch.cat([e.flatten() for e in J])\n",
    "\n",
    "\n",
    "for i in range(num_param):\n",
    "    result = torch.autograd.grad(J[i], list(opt_Net.parameters()), retain_graph=True)\n",
    "    H[i] = torch.cat([r.flatten() for r in result])"
   ]
  },
  {
   "cell_type": "code",
   "execution_count": 12,
   "id": "ec5ac242",
   "metadata": {},
   "outputs": [
    {
     "data": {
      "text/plain": [
       "Text(0, 0.5, 'Loss')"
      ]
     },
     "execution_count": 12,
     "metadata": {},
     "output_type": "execute_result"
    },
    {
     "data": {
      "image/png": "[encoded data removed]",
      "text/plain": [
       "<Figure size 640x480 with 1 Axes>"
      ]
     },
     "metadata": {},
     "output_type": "display_data"
    }
   ],
   "source": [
    "plt.scatter(minRatio, Loss)\n",
    "plt.xlabel('Minimal Ratio')\n",
    "plt.ylabel('Loss')"
   ]
  },
  {
   "cell_type": "code",
   "execution_count": 13,
   "id": "ce6e3e1d",
   "metadata": {},
   "outputs": [
    {
     "data": {
      "text/plain": [
       "1000"
      ]
     },
     "execution_count": 13,
     "metadata": {},
     "output_type": "execute_result"
    }
   ],
   "source": [
    "len(sim_Input)"
   ]
  },
  {
   "cell_type": "code",
   "execution_count": null,
   "id": "570c3064",
   "metadata": {},
   "outputs": [],
   "source": []
  }
 ],
 "metadata": {
  "kernelspec": {
   "display_name": "Python 3 (ipykernel)",
   "language": "python",
   "name": "python3"
  },
  "language_info": {
   "codemirror_mode": {
    "name": "ipython",
    "version": 3
   },
   "file_extension": ".py",
   "mimetype": "text/x-python",
   "name": "python",
   "nbconvert_exporter": "python",
   "pygments_lexer": "ipython3",
   "version": "3.10.9"
  }
 },
 "nbformat": 4,
 "nbformat_minor": 5
}
