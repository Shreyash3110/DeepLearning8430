{
 "cells": [
  {
   "cell_type": "code",
   "execution_count": 7,
   "id": "d1e37809",
   "metadata": {},
   "outputs": [],
   "source": [
    "import sys\n",
    "import torch\n",
    "import json\n",
    "import import_ipynb\n",
    "#from compute import test_data, test, MODELS, encoderRNN, decoderRNN, attention\n",
    "#from ipynb.fs.full.train import *\n",
    "from train import test_data, test, MODELS, encoderRNN, decoderRNN, attention\n",
    "from torch.utils.data import DataLoader\n",
    "from bleu_eval import BLEU\n",
    "import pickle"
   ]
  },
  {
   "cell_type": "code",
   "execution_count": 9,
   "id": "d1fc136c",
   "metadata": {},
   "outputs": [],
   "source": [
    "model = torch.load('model0.h5', map_location=lambda storage, loc: storage)\n",
    "filepath = 'testing_data/feat'\n",
    "dataset = test_data(filepath)\n",
    "testing_loader = DataLoader(dataset, batch_size=32, shuffle=True)"
   ]
  },
  {
   "cell_type": "code",
   "execution_count": 10,
   "id": "31924f3d",
   "metadata": {},
   "outputs": [],
   "source": [
    "with open('i2w.pickle', 'rb') as handle:\n",
    "    i2w = pickle.load(handle)"
   ]
  },
  {
   "cell_type": "code",
   "execution_count": 11,
   "id": "5302a3f6",
   "metadata": {},
   "outputs": [],
   "source": [
    "ss = test(testing_loader, model, i2w)"
   ]
  },
  {
   "cell_type": "code",
   "execution_count": 13,
   "id": "6cd6d472",
   "metadata": {},
   "outputs": [
    {
     "data": {
      "text/plain": [
       "[('mtrCf667KDk_134_176.avi', 'A man is a a '),\n",
       " ('qeKX-N1nKiM_0_5.avi', 'A woman is seasoning spices and a '),\n",
       " ('aM-RcQj0a7I_37_55.avi', 'A is is playing in a '),\n",
       " ('dfOuTx66bJU_34_39.avi', 'A man and woman woman the '),\n",
       " ('bqMmyY1ImkI_0_14.avi', 'A man is a a something '),\n",
       " ('qLwgb3F0aPU_298_305.avi', 'A men something men are '),\n",
       " ('qvg9eM4Hmzk_4_10.avi', 'A man is lifting a truck '),\n",
       " ('cnsjm3fNEec_4_10.avi', 'A man is a a '),\n",
       " ('JntMAcTlOF0_50_70.avi', 'A man is walking a a '),\n",
       " ('n016q1w8Q30_2_11.avi', 'A person is slicing up '),\n",
       " ('30GeJHYoerk_121_126.avi', 'A man is a '),\n",
       " ('1Sp2__RCT0c_11_15.avi', 'A woman is a a '),\n",
       " ('Jag7oTemldY_12_25.avi', 'A man is something a the '),\n",
       " ('BAf3LXFUaGs_28_38.avi', 'A man is playing a '),\n",
       " ('EpMuCrbxE8A_107_115.avi', 'A man is playing a '),\n",
       " ('wkgGxsuNVSg_34_41.avi', 'A man is running the a '),\n",
       " ('g1Gldu1KS44_8_14.avi', 'A something is is a '),\n",
       " ('RSx5G0_xH48_12_17.avi', 'A puppy is is with a '),\n",
       " ('lw7pTwpx0K0_38_48.avi', 'A man is a a '),\n",
       " ('77iDIp40m9E_126_131.avi', 'A something is riding a '),\n",
       " ('HV12kTtdTT4_5_14.avi', 'A boy is is the a '),\n",
       " ('mmSQTI6gMNQ_120_128.avi', 'A woman is dancing '),\n",
       " ('j2Dhf-xFUxU_13_20.avi', 'A person is the something '),\n",
       " ('uJPupV4oLZ0_4_12.avi', 'A person is with a '),\n",
       " ('7HcYJKMxpcg_20_28.avi', 'A dog is walking the the the '),\n",
       " ('CGllPWAwmUo_1_15.avi', 'The man is something '),\n",
       " ('jbzaMtPYtl8_48_58.avi', 'A are are something '),\n",
       " ('ZbtpcGi2DWY_161_170.avi', 'A something is is '),\n",
       " ('04Gt01vatkk_308_321.avi', 'A man is cutting a '),\n",
       " ('5YJaS2Eswg0_22_26.avi', 'A man is riding on a '),\n",
       " ('v7iIZXtpIb8_5_15.avi', 'A man is a a '),\n",
       " ('N2Cm0SLr0ZE_18_29.avi', 'A boy is playing a a '),\n",
       " ('4PcL6-mjRNk_11_18.avi', 'A man is a a the '),\n",
       " ('tJHUH9tpqPg_113_118.avi', 'A girl is her her '),\n",
       " ('4xVGpDmA4lE_23_33.avi', 'A man is a '),\n",
       " ('04Gt01vatkk_248_265.avi', 'A man is a a something '),\n",
       " ('3qqEKTPxLNs_1_15.avi', 'A baby is is a a '),\n",
       " ('MrQd1zUVRUM_103_110.avi', 'A woman is a '),\n",
       " ('ScdUht-pM6s_53_63.avi', 'A man is a something '),\n",
       " ('XOAgUVVwKEA_8_20.avi', 'A baby is is a a '),\n",
       " ('8MVo7fje_oE_125_130.avi', 'A man is the pasta to a '),\n",
       " ('DhwrBs96Kgk_120_124.avi', 'A man is a a '),\n",
       " ('RjpbFlOHFps_8_25.avi', 'A boy is riding on something '),\n",
       " ('HAjwXjwN9-A_16_24.avi', 'A something is a a '),\n",
       " ('TZ860P4iTaM_15_28.avi', 'A cat is playing the piano '),\n",
       " ('rl1rVk_xIOs_1_16.avi', 'A woman is playing a a '),\n",
       " ('zulPFoY64wE_26_33.avi', 'A woman is a '),\n",
       " ('6q1dX6thX3E_286_295.avi', 'A man is singing '),\n",
       " ('sZf3VDsdDPM_107_114.avi', 'A woman is a a '),\n",
       " ('s1ZABV7AQdA_38_48.avi', 'A are of '),\n",
       " ('f9Won2JpOEU_60_80.avi', 'A cat is playing a a a '),\n",
       " ('Dgf0VHMEtNs_57_66.avi', 'A is is something something '),\n",
       " ('xxHx6s_DbUo_216_222.avi', 'A man is a a a '),\n",
       " ('Fe4tO5vW9_E_64_70.avi', 'A woman is adding into to bowl bowl bowl '),\n",
       " ('k06Ge9ANKM8_5_16.avi', 'A small is playing a a '),\n",
       " ('WTf5EgVY5uU_124_128.avi', 'A woman is cooking an in a skillet '),\n",
       " ('zv2RIbUsnSw_335_341.avi', 'A man is a the man '),\n",
       " ('klteYv1Uv9A_27_33.avi', 'A man is a motorcycle something '),\n",
       " ('PeUHy0A1GF0_114_121.avi', 'A woman is the '),\n",
       " ('UXs3eq68ZjE_250_255.avi', 'A person is rice rice a of rice '),\n",
       " ('0lh_UWF9ZP4_62_69.avi', 'A woman is the some eggs a bowl '),\n",
       " ('xCFCXzDUGjY_5_9.avi', 'A man is a a '),\n",
       " ('71soiLO6I9U_15_24.avi', 'A man something a a '),\n",
       " ('WWf0Z6ak3Dg_5_15.avi', 'A something is a a a '),\n",
       " ('8HB7ywgJuTg_131_142.avi', 'A is is adding and in '),\n",
       " ('N3A7944_UJw_63_70.avi', 'A man is a a of of '),\n",
       " ('Cjf21Y19aUQ_82_86.avi', 'A man is his the '),\n",
       " ('e-j59PqJjSM_50_98.avi', 'A man is cutting a '),\n",
       " ('sJSmRik2c-c_1_7.avi', 'A train is riding the a '),\n",
       " ('RZL9irxnhZ0_34_40.avi', 'A man is a a '),\n",
       " ('inzk2fTUe1w_1_15.avi', 'A man is a a '),\n",
       " ('glrijRGnmc0_211_215.avi', 'A man is a a in the something '),\n",
       " ('MTjrZthHwJQ_2_11.avi', 'A man is in in in '),\n",
       " ('6JnGBs88sL0_4_10.avi', 'A man is is on a '),\n",
       " ('u4T76jsPin0_0_11.avi', 'something are are a a '),\n",
       " ('NUYu9c9XsgY_7_21.avi', 'A is is a a '),\n",
       " ('Je3V7U5Ctj4_569_576.avi', 'A man is a a '),\n",
       " ('ufFT2BWh3BQ_0_8.avi', 'A panda is is '),\n",
       " ('J_evFB7RIKA_104_120.avi', 'A man is slicing a '),\n",
       " ('BtQtRGI0F2Q_15_20.avi', 'A woman is a a '),\n",
       " ('He7Ge7Sogrk_47_70.avi', 'A man is a a something '),\n",
       " ('J---aiyznGQ_0_6.avi', 'A man is playing a '),\n",
       " ('7NNg0_n-bS8_21_30.avi', 'A man is singing and '),\n",
       " ('UdcObAQ5OOM_15_30.avi', 'A man is a a '),\n",
       " ('shPymuahrsc_5_12.avi', 'A something is something in '),\n",
       " ('IhwPQL9dFYc_124_129.avi', 'A woman is the a '),\n",
       " ('e-j59PqJjSM_405_416.avi', 'A person is adding in of bowl bowl '),\n",
       " ('pW9DFPqoIsI_26_50.avi', 'A man is the something '),\n",
       " ('lo4KcsBN--A_0_10.avi', 'A man is a a '),\n",
       " ('ecm9gf2Pgkc_1_24.avi', 'A person is a a '),\n",
       " ('UbmZAe5u5FI_132_141.avi', 'A person is a '),\n",
       " ('tcxhOGyrCtI_15_21.avi', 'A cat is with with a '),\n",
       " ('5HAf_INrFy0_3_25.avi', 'A young is is the a something '),\n",
       " ('YmXCfQm0_CA_277_284.avi', 'A man is a a '),\n",
       " ('88DOMJ11q2M_84_87.avi', 'A woman is in the the '),\n",
       " ('k5OKBX2e7xA_19_32.avi', 'A girl is a something a '),\n",
       " ('778mkceE0UQ_40_46.avi', 'A car is a car car '),\n",
       " ('q7pOFn8s4zc_263_273.avi', 'A girl is is a a '),\n",
       " ('jTnrm338_KY_34_42.avi', 'A woman is a a '),\n",
       " ('0lh_UWF9ZP4_27_31.avi', 'A person is slicing a ')]"
      ]
     },
     "execution_count": 13,
     "metadata": {},
     "output_type": "execute_result"
    }
   ],
   "source": [
    "ss"
   ]
  },
  {
   "cell_type": "code",
   "execution_count": 14,
   "id": "308fb88a",
   "metadata": {},
   "outputs": [],
   "source": [
    "with open('test_file.txt', 'w') as f:\n",
    "    for id, s in ss:\n",
    "        f.write('{},{}\\n'.format(id, s))"
   ]
  },
  {
   "cell_type": "code",
   "execution_count": 16,
   "id": "a915ea5e",
   "metadata": {},
   "outputs": [],
   "source": [
    "test = json.load(open('testing_label.json'))\n",
    "output = 'test_file.txt'"
   ]
  },
  {
   "cell_type": "code",
   "execution_count": 17,
   "id": "360ea585",
   "metadata": {},
   "outputs": [],
   "source": [
    "result = {}\n",
    "with open(output,'r') as f:\n",
    "    for line in f:\n",
    "        line = line.rstrip()\n",
    "        comma = line.index(',')\n",
    "        test_id = line[:comma]\n",
    "        caption = line[comma+1:]\n",
    "        result[test_id] = caption"
   ]
  },
  {
   "cell_type": "code",
   "execution_count": 19,
   "id": "38b3ee37",
   "metadata": {},
   "outputs": [
    {
     "name": "stdout",
     "output_type": "stream",
     "text": [
      "[0.8, 0.8333333333333334, 0.6, 0.8333333333333334, 0.8, 0.8, 0.6666666666666666, 0.25, 0.6666666666666666, 1.0, 0.5841005873035536, 0.8187307530779819, 0.6666666666666666, 0.6, 0.6, 0.3333333333333333, 0.6666666666666666, 1.0, 0.4, 0.7788007830714049, 0.6666666666666666, 0.8333333333333334, 0.7430381997858699, 0.16666666666666666, 0.8187307530779819, 0.8187307530779819, 0.8333333333333334, 0.8333333333333334, 0.75, 0.6666666666666666, 0.8, 0.875, 0.6666666666666666, 0.6703200460356393, 1.0, 1.0, 0.45489799478447507, 0.8, 0.6666666666666666, 1.0, 0.8333333333333334, 0.75, 0.6666666666666666, 0.8, 1.0, 0.4, 0.5714285714285714, 0.8333333333333334, 0.5, 0.5, 0.6, 0.6, 0.6, 0.7142857142857143, 0.4, 0.4444444444444444, 0.5, 0.6666666666666666, 1.0, 0.6549846024623855, 1.0, 0.8, 0.5841005873035536, 0.25, 0.8333333333333334, 0.2, 0.875, 0.5, 0.8333333333333334, 1.0, 1.0, 0.5714285714285714, 0.3274923012311928, 1.0, 0.6, 0.7142857142857143, 0.8, 0.6, 1.0, 0.6, 0.513417119032592, 0.6666666666666666, 0.8, 1.0, 0.3333333333333333, 0.8, 0.5, 0.6666666666666666, 0.8, 0.6549846024623855, 1.0, 1.0, 0.5971094254781577, 0.6666666666666666, 1.0, 0.6, 0.6, 0.7142857142857143, 0.354274914555761, 0.75]\n",
      "Average bleu score is 0.6990387215289963\n"
     ]
    }
   ],
   "source": [
    "bleu=[]\n",
    "for item in test:\n",
    "    score_per_video = []\n",
    "    captions = [x.rstrip('.') for x in item['caption']]\n",
    "    score_per_video.append(BLEU(result[item['id']],captions,True))\n",
    "    bleu.append(score_per_video[0])\n",
    "average = sum(bleu) / len(bleu)\n",
    "print(bleu)\n",
    "print(\"Average bleu score is \" + str(average))"
   ]
  },
  {
   "cell_type": "code",
   "execution_count": null,
   "id": "40124e02",
   "metadata": {},
   "outputs": [],
   "source": []
  }
 ],
 "metadata": {
  "kernelspec": {
   "display_name": "Python 3 (ipykernel)",
   "language": "python",
   "name": "python3"
  },
  "language_info": {
   "codemirror_mode": {
    "name": "ipython",
    "version": 3
   },
   "file_extension": ".py",
   "mimetype": "text/x-python",
   "name": "python",
   "nbconvert_exporter": "python",
   "pygments_lexer": "ipython3",
   "version": "3.10.9"
  }
 },
 "nbformat": 4,
 "nbformat_minor": 5
}
